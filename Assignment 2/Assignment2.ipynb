{
 "cells": [
  {
   "cell_type": "markdown",
   "metadata": {},
   "source": [
    "Example Dependent Cost Sensitive Classification\n",
    "\n",
    "Team Members\\\n",
    "CS21BTECH11060: Varun Gupta\\\n",
    "MA22BTECH11015: Priyanshu Goyal\\\n",
    "AI22BTECH11020: Pranay Jain"
   ]
  },
  {
   "cell_type": "markdown",
   "metadata": {},
   "source": [
    "Imports and Data Handling"
   ]
  },
  {
   "cell_type": "code",
   "execution_count": 1,
   "metadata": {},
   "outputs": [],
   "source": [
    "import numpy as np\n",
    "import pandas as pd\n",
    "import matplotlib.pyplot as plt\n",
    "from sklearn.model_selection import train_test_split\n",
    "# from functools import lru_cache\n",
    "from scipy.special import gamma\n",
    "from scipy.optimize import root_scalar\n",
    "\n",
    "# Load the data\n",
    "df_fraud = pd.read_csv(\"costsensitiveregression.csv\")\n",
    "\n",
    "# Reorder columns: move second-to-last column first, then everything else, then last column\n",
    "cols = df_fraud.columns.tolist()\n",
    "cols = cols[-2:-1] + cols[:-2] + cols[-1:]\n",
    "df_fraud = df_fraud[cols]\n",
    "\n",
    "# Split label (col 0) from features (col 1..end)\n",
    "X_train_full, X_test_full, y_train, y_test = train_test_split(\n",
    "    df_fraud.iloc[:, 1:],  # features\n",
    "    df_fraud.iloc[:, 0],   # label\n",
    "    test_size=0.2,\n",
    "    random_state=0\n",
    ")\n",
    "\n",
    "# Separate out the false negative cost column \"FNC\"\n",
    "cost_train = X_train_full[\"FNC\"]\n",
    "cost_test = X_test_full[\"FNC\"]\n",
    "\n",
    "# Drop the cost column from features\n",
    "X_train_full = X_train_full.drop(\"FNC\", axis=1)\n",
    "X_test_full = X_test_full.drop(\"FNC\", axis=1)\n",
    "\n",
    "# Convert everything to NumPy\n",
    "X_train = X_train_full.to_numpy()\n",
    "X_test = X_test_full.to_numpy()\n",
    "y_train = y_train.to_numpy()\n",
    "y_test = y_test.to_numpy()\n",
    "cost_train = cost_train.to_numpy()\n",
    "cost_test = cost_test.to_numpy()"
   ]
  },
  {
   "cell_type": "markdown",
   "metadata": {},
   "source": [
    "Utility Functions"
   ]
  },
  {
   "cell_type": "code",
   "execution_count": 2,
   "metadata": {},
   "outputs": [],
   "source": [
    "def sigmoid_function(z):\n",
    "    \"\"\"Applies the sigmoid transformation elementwise.\"\"\"\n",
    "    return 1.0 / (1.0 + np.exp(-z))\n",
    "\n",
    "def compute_inverse_gamma(val):\n",
    "    \"\"\"\n",
    "    Approximate the inverse of the gamma function for a given positive 'val'.\n",
    "    Uses root finding to solve gamma(x) - val = 0 within a bracket.\n",
    "    \"\"\"\n",
    "    def gamma_equation(x, target):\n",
    "        return gamma(x) - target\n",
    "    \n",
    "    # Add a small offset to avoid zero\n",
    "    bracket_result = root_scalar(\n",
    "        gamma_equation, \n",
    "        args=(val + 1e-8,), \n",
    "        bracket=[-1e-18, 100]\n",
    "    )\n",
    "    if not bracket_result.converged:\n",
    "        raise ValueError(\"Inverse gamma could not be computed.\")\n",
    "    return bracket_result.root"
   ]
  },
  {
   "cell_type": "markdown",
   "metadata": {},
   "source": [
    "Cost Functions"
   ]
  },
  {
   "cell_type": "code",
   "execution_count": 3,
   "metadata": {},
   "outputs": [],
   "source": [
    "def cost_bahnsen_approach(true_labels, predictions, fn_cost):\n",
    "    \"\"\"\n",
    "    Bahnsen cost function:\n",
    "    - true positive cost (tpc) = 6\n",
    "    - false positive cost (fpc) = 6\n",
    "    - true negative cost (tnc) = 0\n",
    "    - false negative cost (fnc) is row-dependent (fn_cost).\n",
    "    \n",
    "    Note: 'predictions' are the sigmoid outputs, not 0/1 classes.\n",
    "    \"\"\"\n",
    "    tpc = 6\n",
    "    fpc = 6\n",
    "    tnc = 0\n",
    "    # The formula here uses predictions in place of 'h(x)'\n",
    "    # y * [h(x)*TP + (1 - h(x))*FN] + (1 - y) * [h(x)*FP + (1 - h(x))*TN]\n",
    "    # However, there's a slight mismatch: it uses (1 - y_pred) again in the second term,\n",
    "    # so it effectively lumps them. We'll keep the structure for equivalence.\n",
    "    combined_loss = (\n",
    "        true_labels * (predictions * tpc + (1.0 - predictions) * fn_cost)\n",
    "        + (1.0 - predictions) * (predictions * fpc + (1.0 - predictions) * tnc)\n",
    "    )\n",
    "    return np.mean(combined_loss)\n",
    "\n",
    "\n",
    "def cost_nikou_approach(true_labels, predictions, fn_cost):\n",
    "    \"\"\"\n",
    "    Nikou cost function:\n",
    "    - false positive cost (fpc) = 6\n",
    "    - row-based false negative cost (fn_cost)\n",
    "    \n",
    "    b = (1-y)*Gamma^-1(fpc) + y*Gamma^-1(fn_cost)\n",
    "    a = 1 / Gamma(b + 1)\n",
    "    Loss = a*y*(-log(pred))^b + a*(1-y)*(-log(1-pred))^b\n",
    "    \"\"\"\n",
    "    fpc = 6\n",
    "    # Clip predictions to avoid log(0)\n",
    "    preds_clipped = np.clip(predictions, 1e-8, 1 - 1e-8)\n",
    "    \n",
    "    # Compute b row by row\n",
    "    b_vals = []\n",
    "    for i in range(len(true_labels)):\n",
    "        if true_labels[i] == 1:\n",
    "            # Use row-based FN\n",
    "            b_vals.append(1.0 / gamma(fn_cost[i]))\n",
    "        else:\n",
    "            # Use FP cost\n",
    "            b_vals.append(1.0 / gamma(fpc))\n",
    "    b_vals = np.array(b_vals)\n",
    "    \n",
    "    # a = 1 / Gamma(b+1)\n",
    "    a_vals = 1.0 / gamma(b_vals + 1.0)\n",
    "    \n",
    "    # Compute the loss per row\n",
    "    # For y=1: a * ((-log(pred))^b)\n",
    "    # For y=0: a * ((-log(1 - pred))^b)\n",
    "    term_1 = true_labels * np.power(-np.log(preds_clipped), b_vals)\n",
    "    term_2 = (1.0 - true_labels) * np.power(-np.log(1 - preds_clipped), b_vals)\n",
    "    total_loss = a_vals * (term_1 + term_2)\n",
    "    \n",
    "    return np.mean(total_loss)"
   ]
  },
  {
   "cell_type": "markdown",
   "metadata": {},
   "source": [
    "Genetic Algorithm Utilities"
   ]
  },
  {
   "cell_type": "code",
   "execution_count": 4,
   "metadata": {},
   "outputs": [],
   "source": [
    "def calculate_fitness(pop, X, y, fn_cost, cost_func):\n",
    "    \"\"\"\n",
    "    Fitness = 1 / (1 + cost), so lower cost => higher fitness.\n",
    "    \"\"\"\n",
    "    scores = []\n",
    "    for individual in pop:\n",
    "        preds = sigmoid_function(X @ individual)\n",
    "        cval = cost_func(y, preds, fn_cost)\n",
    "        scores.append(1.0 / (1.0 + cval))\n",
    "    return scores\n",
    "\n",
    "def perform_crossover(parent_a, parent_b):\n",
    "    \"\"\"Single-point crossover at a random index.\"\"\"\n",
    "    point = np.random.randint(len(parent_a))\n",
    "    offspring = np.concatenate([parent_a[:point], parent_b[point:]])\n",
    "    return offspring\n",
    "\n",
    "def perform_mutation(weights, mutation_prob):\n",
    "    \"\"\"\n",
    "    Randomly perturb 'weights' in positions chosen by a Bernoulli mask\n",
    "    with probability 'mutation_prob'.\n",
    "    \"\"\"\n",
    "    mask = np.random.binomial(1, mutation_prob, size=len(weights)).astype(bool)\n",
    "    weights[mask] += (np.random.rand(mask.sum()) - 0.5)\n",
    "    return weights\n"
   ]
  },
  {
   "cell_type": "markdown",
   "metadata": {},
   "source": [
    "Genetic Algorithm Training"
   ]
  },
  {
   "cell_type": "code",
   "execution_count": 5,
   "metadata": {},
   "outputs": [],
   "source": [
    "def train_genetic_algorithm(\n",
    "    population_size, \n",
    "    num_iterations, \n",
    "    mutation_probability, \n",
    "    X, \n",
    "    y, \n",
    "    fn_cost, \n",
    "    cost_func\n",
    "):\n",
    "    \"\"\"\n",
    "    - population_size: number of candidate solutions\n",
    "    - num_iterations: GA loop count\n",
    "    - mutation_probability: chance of mutating each gene\n",
    "    - X, y, fn_cost: data\n",
    "    - cost_func: either Bahnsen or Nikou cost function\n",
    "    \n",
    "    Returns: final population and a list of losses per iteration (for plotting).\n",
    "    \"\"\"\n",
    "    # Track cost each iteration\n",
    "    loss_history = []\n",
    "    \n",
    "    # Initialize random population in [-0.5, 0.5]\n",
    "    population = np.random.rand(population_size, X.shape[1]) - 0.5\n",
    "    \n",
    "    for iteration in range(num_iterations):\n",
    "        # Calculate fitness for current population\n",
    "        fitness_scores = calculate_fitness(population, X, y, fn_cost, cost_func)\n",
    "        fitness_scores = np.array(fitness_scores)\n",
    "        \n",
    "        # Probability distribution for selecting parents\n",
    "        prob_dist = fitness_scores / fitness_scores.sum()\n",
    "        \n",
    "        # Choose two parents\n",
    "        idx_a = np.random.choice(range(population_size), p=prob_dist)\n",
    "        idx_b = np.random.choice(range(population_size), p=prob_dist)\n",
    "        \n",
    "        parent_a = population[idx_a]\n",
    "        parent_b = population[idx_b]\n",
    "        \n",
    "        # Create a child\n",
    "        child = perform_crossover(parent_a, parent_b)\n",
    "        child = perform_mutation(child, mutation_probability)\n",
    "        \n",
    "        # Evaluate child fitness\n",
    "        child_score = calculate_fitness([child], X, y, fn_cost, cost_func)[0]\n",
    "        \n",
    "        # Identify worst solution in population\n",
    "        worst_idx = np.argmin(fitness_scores)\n",
    "        \n",
    "        # Identify best solution for logging\n",
    "        best_idx = np.argmax(fitness_scores)\n",
    "        best_solution = population[best_idx]\n",
    "        preds_best = sigmoid_function(X @ best_solution)\n",
    "        current_loss = cost_func(y, preds_best, fn_cost)\n",
    "        loss_history.append(current_loss)\n",
    "        \n",
    "        # Replace worst with child if child is better\n",
    "        if child_score > fitness_scores[worst_idx]:\n",
    "            population[worst_idx] = child\n",
    "    \n",
    "    return population, loss_history\n"
   ]
  },
  {
   "cell_type": "markdown",
   "metadata": {},
   "source": [
    "Run the GA for the Bahnsen Approach"
   ]
  },
  {
   "cell_type": "code",
   "execution_count": 6,
   "metadata": {},
   "outputs": [
    {
     "name": "stdout",
     "output_type": "stream",
     "text": [
      "Final test cost (Bahnsen approach): 1.8046\n"
     ]
    },
    {
     "data": {
      "image/png": "[encoded data removed]",
      "text/plain": [
       "<Figure size 432x288 with 1 Axes>"
      ]
     },
     "metadata": {
      "needs_background": "light"
     },
     "output_type": "display_data"
    }
   ],
   "source": [
    "population_size = 50\n",
    "num_iterations = 300\n",
    "mutation_probability = 0.01\n",
    "\n",
    "final_population, losses_over_epochs = train_genetic_algorithm(\n",
    "    population_size,\n",
    "    num_iterations,\n",
    "    mutation_probability,\n",
    "    X_train,\n",
    "    y_train,\n",
    "    cost_train,\n",
    "    cost_bahnsen_approach\n",
    ")\n",
    "\n",
    "# Find the best solution in the final population\n",
    "fitness_scores_final = calculate_fitness(final_population, X_train, y_train, cost_train, cost_bahnsen_approach)\n",
    "best_index = np.argmax(fitness_scores_final)\n",
    "best_solution = final_population[best_index]\n",
    "\n",
    "# Evaluate on test set\n",
    "preds_test = sigmoid_function(X_test @ best_solution)\n",
    "final_test_cost = cost_bahnsen_approach(y_test, preds_test, cost_test)\n",
    "print(f\"Final test cost (Bahnsen approach): {final_test_cost:.4f}\")\n",
    "\n",
    "# Plot the loss curve\n",
    "plt.figure()\n",
    "plt.plot(range(1, num_iterations + 1), losses_over_epochs)\n",
    "plt.xlabel(\"Iterations\")\n",
    "plt.ylabel(\"Bahnsen Cost\")\n",
    "plt.title(\"Genetic Algorithm: Bahnsen Approach\")\n",
    "plt.savefig(\"bahnsen_plot.png\")\n",
    "plt.show()\n"
   ]
  },
  {
   "cell_type": "markdown",
   "metadata": {},
   "source": [
    "Run the GA for the Nikou Approach"
   ]
  },
  {
   "cell_type": "code",
   "execution_count": null,
   "metadata": {},
   "outputs": [],
   "source": [
    "# Run GA for the Nikou cost-sensitive approach\n",
    "population_size = 50\n",
    "num_iterations = 300\n",
    "mutation_probability = 0.01\n",
    "\n",
    "final_pop_nikou, nikou_loss_history = train_genetic_algorithm(\n",
    "    population_size,\n",
    "    num_iterations,\n",
    "    mutation_probability,\n",
    "    X_train,\n",
    "    y_train,\n",
    "    cost_train,\n",
    "    cost_nikou_approach  # our Nikou function defined earlier\n",
    ")\n",
    "\n",
    "# Identify the best candidate from the final population\n",
    "fitness_nikou = calculate_fitness(final_pop_nikou, X_train, y_train, cost_train, cost_nikou_approach)\n",
    "fitness_nikou = calculate_fitness(final_pop_nikou, X_train, y_train, cost_train, cost_nikou_approach)\n",
    "best_idx_nikou = np.argmax(fitness_nikou)\n",
    "best_candidate_nikou = final_pop_nikou[best_idx_nikou]\n",
    "\n",
    "# Evaluate on test set using the Nikou approach\n",
    "predictions_test_nikou = sigmoid_function(X_test @ best_candidate_nikou)\n",
    "test_cost_nikou = cost_nikou_approach(y_test, predictions_test_nikou, cost_test)\n",
    "print(f\"Final test cost (Nikou approach): {test_cost_nikou:.4f}\")\n",
    "\n",
    "# Plot the loss evolution for the Nikou approach\n",
    "plt.figure()\n",
    "plt.plot(range(1, num_iterations + 1), nikou_loss_history)\n",
    "plt.xlabel(\"Iterations\")\n",
    "plt.ylabel(\"Nikou Cost\")\n",
    "plt.title(\"Genetic Algorithm: Nikou Approach\")\n",
    "plt.savefig(\"nikou_plot.png\")\n",
    "plt.show()"
   ]
  }
 ],
 "metadata": {
  "kernelspec": {
   "display_name": "base",
   "language": "python",
   "name": "python3"
  },
  "language_info": {
   "codemirror_mode": {
    "name": "ipython",
    "version": 3
   },
   "file_extension": ".py",
   "mimetype": "text/x-python",
   "name": "python",
   "nbconvert_exporter": "python",
   "pygments_lexer": "ipython3",
   "version": "3.9.7"
  }
 },
 "nbformat": 4,
 "nbformat_minor": 2
}
