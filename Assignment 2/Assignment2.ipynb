{
 "cells": [
  {
   "cell_type": "markdown",
   "metadata": {},
   "source": [
    "Example Dependent Cost Sensitive Classification\n",
    "\n",
    "Team Members\\\n",
    "CS21BTECH11060: Varun Gupta\\\n",
    "MA22BTECH11015: Priyanshu Goyal\\\n",
    "AI22BTECH11020: Pranay Jain"
   ]
  },
  {
   "cell_type": "markdown",
   "metadata": {},
   "source": [
    "Imports and Data Handling"
   ]
  },
  {
   "cell_type": "code",
   "execution_count": 31,
   "metadata": {},
   "outputs": [],
   "source": [
    "import numpy as np\n",
    "import pandas as pd\n",
    "import matplotlib.pyplot as plt\n",
    "from sklearn.model_selection import train_test_split\n",
    "from sklearn.linear_model import LogisticRegression\n",
    "from sklearn.metrics import accuracy_score\n",
    "\n",
    "# Load the data\n",
    "df_fraud = pd.read_csv(\"costsensitiveregression.csv\")\n",
    "\n",
    "# Reorder columns: move second-to-last column first, then everything else, then last column\n",
    "cols = df_fraud.columns.tolist()\n",
    "cols = cols[-2:-1] + cols[:-2] + cols[-1:]\n",
    "df_fraud = df_fraud[cols]\n",
    "\n",
    "# Split label (col 0) from features (col 1..end)\n",
    "X_train_full, X_test_full, y_train, y_test = train_test_split(\n",
    "    df_fraud.iloc[:, 1:],  # features\n",
    "    df_fraud.iloc[:, 0],   # label\n",
    "    test_size=0.2,\n",
    "    random_state=0\n",
    ")\n",
    "\n",
    "# Separate out the false negative cost column \"FNC\"\n",
    "cost_train = X_train_full[\"FNC\"]\n",
    "cost_test = X_test_full[\"FNC\"]\n",
    "\n",
    "# Drop the cost column from features\n",
    "X_train_full = X_train_full.drop(\"FNC\", axis=1)\n",
    "X_test_full = X_test_full.drop(\"FNC\", axis=1)\n",
    "\n",
    "# Convert everything to NumPy\n",
    "X_train = X_train_full.to_numpy()\n",
    "X_test = X_test_full.to_numpy()\n",
    "y_train = y_train.to_numpy()\n",
    "y_test = y_test.to_numpy()\n",
    "cost_train = cost_train.to_numpy()\n",
    "cost_test = cost_test.to_numpy()"
   ]
  },
  {
   "cell_type": "markdown",
   "metadata": {},
   "source": [
    "Utility Functions"
   ]
  },
  {
   "cell_type": "code",
   "execution_count": null,
   "metadata": {},
   "outputs": [],
   "source": [
    "def sigmoid_function(z):\n",
    "    \"\"\"Applies the sigmoid transformation elementwise.\"\"\"\n",
    "    return 1.0 / (1.0 + np.exp(-z))"
   ]
  },
  {
   "cell_type": "markdown",
   "metadata": {},
   "source": [
    "Standard Vanilla Logistic Regression"
   ]
  },
  {
   "cell_type": "code",
   "execution_count": null,
   "metadata": {},
   "outputs": [
    {
     "data": {
      "image/png": "[encoded data removed]",
      "text/plain": [
       "<Figure size 720x432 with 1 Axes>"
      ]
     },
     "metadata": {
      "needs_background": "light"
     },
     "output_type": "display_data"
    }
   ],
   "source": [
    "\n",
    "# Train a vanilla logistic regression model\n",
    "vanilla_model = LogisticRegression(solver='liblinear')\n",
    "vanilla_model.fit(X_train, y_train)\n",
    "\n",
    "# Get the decision function (logits) for the test set.\n",
    "logits = vanilla_model.decision_function(X_test)\n",
    "\n",
    "# Cost Evaluation Function\n",
    "def compute_cost(offset, logits, y_true):\n",
    "    \"\"\"\n",
    "    Adjust logits by adding the given offset, convert to probabilities, \n",
    "    and compute cost as (100 - accuracy).\n",
    "    \"\"\"\n",
    "    # Apply offset and compute probabilities using the sigmoid function.\n",
    "    adjusted_logits = logits + offset\n",
    "    probabilities = 1.0 / (1.0 + np.exp(-adjusted_logits))\n",
    "    \n",
    "    # Threshold probabilities to get binary predictions.\n",
    "    predictions = (probabilities >= 0.5).astype(int)\n",
    "    \n",
    "    # Calculate accuracy (as a percentage).\n",
    "    acc = 100 * np.mean(predictions == y_true)\n",
    "    # Define cost as (100 - accuracy).\n",
    "    cost = 100 - acc\n",
    "    return cost, acc\n",
    "\n",
    "# Evaluate Cost over a Range of Offsets\n",
    "offsets = np.linspace(-2, 2, 100)\n",
    "vanilla_costs = []\n",
    "vanilla_accuracies = []\n",
    "\n",
    "for off in offsets:\n",
    "    cost_val, acc_val = compute_cost(off, logits, y_test)\n",
    "    vanilla_costs.append(cost_val)\n",
    "    vanilla_accuracies.append(acc_val)\n",
    "\n",
    "# Plotting the Cost vs. Offset\n",
    "plt.figure(figsize=(10, 6))\n",
    "plt.plot(offsets, vanilla_costs, 'b-', label='Vanilla LR Cost (100 - Accuracy)')\n",
    "plt.xlabel('Offset')\n",
    "plt.ylabel('Cost (100 - Accuracy)')\n",
    "plt.title('Standard Logistic Regression: Cost vs. Offset')\n",
    "plt.legend()\n",
    "plt.savefig(\"vanilla_lr_cost_vs_offset.png\")\n",
    "plt.show()"
   ]
  },
  {
   "cell_type": "markdown",
   "metadata": {},
   "source": [
    "Cost Function for Bahnsen Approach"
   ]
  },
  {
   "cell_type": "code",
   "execution_count": 12,
   "metadata": {},
   "outputs": [],
   "source": [
    "def cost_bahnsen_approach(true_labels, predictions, fn_cost):\n",
    "    \"\"\"\n",
    "    Bahnsen cost function:\n",
    "    - true positive cost (tpc) = 6\n",
    "    - false positive cost (fpc) = 6\n",
    "    - true negative cost (tnc) = 0\n",
    "    - false negative cost (fnc) is row-dependent (fn_cost).\n",
    "    \n",
    "    Note: 'predictions' are the sigmoid outputs, not 0/1 classes.\n",
    "    \"\"\"\n",
    "    tpc = 6\n",
    "    fpc = 6\n",
    "    tnc = 0\n",
    "    # The formula here uses predictions in place of 'h(x)'\n",
    "    # y * [h(x)*TP + (1 - h(x))*FN] + (1 - y) * [h(x)*FP + (1 - h(x))*TN]\n",
    "    # However, there's a slight mismatch: it uses (1 - y_pred) again in the second term,\n",
    "    # so it effectively lumps them. We'll keep the structure for equivalence.\n",
    "    combined_loss = (\n",
    "        true_labels * (predictions * tpc + (1.0 - predictions) * fn_cost)\n",
    "        + (1.0 - predictions) * (predictions * fpc + (1.0 - predictions) * tnc)\n",
    "    )\n",
    "    return np.mean(combined_loss)"
   ]
  },
  {
   "cell_type": "markdown",
   "metadata": {},
   "source": [
    "Genetic Algorithm Utilities"
   ]
  },
  {
   "cell_type": "code",
   "execution_count": 13,
   "metadata": {},
   "outputs": [],
   "source": [
    "def calculate_fitness(pop, X, y, fn_cost, cost_func):\n",
    "    \"\"\"\n",
    "    Fitness = 1 / (1 + cost), so lower cost => higher fitness.\n",
    "    \"\"\"\n",
    "    scores = []\n",
    "    for individual in pop:\n",
    "        preds = sigmoid_function(X @ individual)\n",
    "        cval = cost_func(y, preds, fn_cost)\n",
    "        scores.append(1.0 / (1.0 + cval))\n",
    "    return scores\n",
    "\n",
    "def perform_crossover(parent_a, parent_b):\n",
    "    \"\"\"Single-point crossover at a random index.\"\"\"\n",
    "    point = np.random.randint(len(parent_a))\n",
    "    offspring = np.concatenate([parent_a[:point], parent_b[point:]])\n",
    "    return offspring\n",
    "\n",
    "def perform_mutation(weights, mutation_prob):\n",
    "    \"\"\"\n",
    "    Randomly perturb 'weights' in positions chosen by a Bernoulli mask\n",
    "    with probability 'mutation_prob'.\n",
    "    \"\"\"\n",
    "    mask = np.random.binomial(1, mutation_prob, size=len(weights)).astype(bool)\n",
    "    weights[mask] += (np.random.rand(mask.sum()) - 0.5)\n",
    "    return weights"
   ]
  },
  {
   "cell_type": "markdown",
   "metadata": {},
   "source": [
    "Genetic Algorithm Training"
   ]
  },
  {
   "cell_type": "code",
   "execution_count": 14,
   "metadata": {},
   "outputs": [],
   "source": [
    "def train_genetic_algorithm(\n",
    "    population_size, \n",
    "    num_iterations, \n",
    "    mutation_probability, \n",
    "    X, \n",
    "    y, \n",
    "    fn_cost, \n",
    "    cost_func\n",
    "):\n",
    "    \"\"\"\n",
    "    - population_size: number of candidate solutions\n",
    "    - num_iterations: GA loop count\n",
    "    - mutation_probability: chance of mutating each gene\n",
    "    - X, y, fn_cost: data\n",
    "    - cost_func: either Bahnsen or Nikou cost function\n",
    "    \n",
    "    Returns: final population and a list of losses per iteration (for plotting).\n",
    "    \"\"\"\n",
    "    # Track cost each iteration\n",
    "    loss_history = []\n",
    "    \n",
    "    # Initialize random population in [-0.5, 0.5]\n",
    "    population = np.random.rand(population_size, X.shape[1]) - 0.5\n",
    "    \n",
    "    for iteration in range(num_iterations):\n",
    "        # Calculate fitness for current population\n",
    "        fitness_scores = calculate_fitness(population, X, y, fn_cost, cost_func)\n",
    "        fitness_scores = np.array(fitness_scores)\n",
    "        \n",
    "        # Probability distribution for selecting parents\n",
    "        prob_dist = fitness_scores / fitness_scores.sum()\n",
    "        \n",
    "        # Choose two parents\n",
    "        idx_a = np.random.choice(range(population_size), p=prob_dist)\n",
    "        idx_b = np.random.choice(range(population_size), p=prob_dist)\n",
    "        \n",
    "        parent_a = population[idx_a]\n",
    "        parent_b = population[idx_b]\n",
    "        \n",
    "        # Create a child\n",
    "        child = perform_crossover(parent_a, parent_b)\n",
    "        child = perform_mutation(child, mutation_probability)\n",
    "        \n",
    "        # Evaluate child fitness\n",
    "        child_score = calculate_fitness([child], X, y, fn_cost, cost_func)[0]\n",
    "        \n",
    "        # Identify worst solution in population\n",
    "        worst_idx = np.argmin(fitness_scores)\n",
    "        \n",
    "        # Identify best solution for logging\n",
    "        best_idx = np.argmax(fitness_scores)\n",
    "        best_solution = population[best_idx]\n",
    "        preds_best = sigmoid_function(X @ best_solution)\n",
    "        current_loss = cost_func(y, preds_best, fn_cost)\n",
    "        loss_history.append(current_loss)\n",
    "        \n",
    "        # Replace worst with child if child is better\n",
    "        if child_score > fitness_scores[worst_idx]:\n",
    "            population[worst_idx] = child\n",
    "    \n",
    "    return population, loss_history\n"
   ]
  },
  {
   "cell_type": "markdown",
   "metadata": {},
   "source": [
    "Run the GA for the Bahnsen Approach"
   ]
  },
  {
   "cell_type": "code",
   "execution_count": 37,
   "metadata": {},
   "outputs": [
    {
     "name": "stdout",
     "output_type": "stream",
     "text": [
      "Final test cost (Bahnsen approach): 1.8036\n"
     ]
    },
    {
     "data": {
      "image/png": "[encoded data removed]",
      "text/plain": [
       "<Figure size 432x288 with 1 Axes>"
      ]
     },
     "metadata": {
      "needs_background": "light"
     },
     "output_type": "display_data"
    },
    {
     "data": {
      "image/png": "[encoded data removed]",
      "text/plain": [
       "<Figure size 720x432 with 1 Axes>"
      ]
     },
     "metadata": {
      "needs_background": "light"
     },
     "output_type": "display_data"
    }
   ],
   "source": [
    "population_size = 50\n",
    "num_iterations = 300\n",
    "mutation_probability = 0.01\n",
    "\n",
    "final_population, losses_over_epochs = train_genetic_algorithm(\n",
    "    population_size,\n",
    "    num_iterations,\n",
    "    mutation_probability,\n",
    "    X_train,\n",
    "    y_train,\n",
    "    cost_train,\n",
    "    cost_bahnsen_approach\n",
    ")\n",
    "\n",
    "# Find the best solution in the final population\n",
    "fitness_scores_final = calculate_fitness(final_population, X_train, y_train, cost_train, cost_bahnsen_approach)\n",
    "best_index = np.argmax(fitness_scores_final)\n",
    "best_solution = final_population[best_index]\n",
    "\n",
    "# Evaluate on test set\n",
    "preds_test = sigmoid_function(X_test @ best_solution)\n",
    "final_test_cost = cost_bahnsen_approach(y_test, preds_test, cost_test)\n",
    "print(f\"Final test cost (Bahnsen approach): {final_test_cost:.4f}\")\n",
    "\n",
    "# Plot the loss curve\n",
    "plt.figure()\n",
    "plt.plot(range(1, num_iterations + 1), losses_over_epochs)\n",
    "plt.xlabel(\"Iterations\")\n",
    "plt.ylabel(\"Bahnsen Cost\")\n",
    "plt.title(\"Genetic Algorithm: Bahnsen Approach\")\n",
    "plt.savefig(\"bahnsen_plot.png\")\n",
    "plt.show()\n",
    "import numpy as np\n",
    "import matplotlib.pyplot as plt\n",
    "\n",
    "# Compute the Bahnsen model logits for the test set using the GA-derived weights.\n",
    "bahnsen_logits = X_test @ best_solution\n",
    "\n",
    "# Define the range of offsets to evaluate.\n",
    "offsets = np.linspace(-2, 2, 100)\n",
    "bahnsen_costs = []\n",
    "\n",
    "# Evaluate the Bahnsen cost for each offset.\n",
    "for off in offsets:\n",
    "    # Adjust the logits by the offset and compute probabilities via the sigmoid function.\n",
    "    adjusted_probs = 1 / (1 + np.exp(-(bahnsen_logits + off)))\n",
    "    # Compute the cost using your Bahnsen cost function.\n",
    "    cost_val = cost_bahnsen_approach(y_test, adjusted_probs, cost_test)\n",
    "    bahnsen_costs.append(cost_val)\n",
    "\n",
    "# Plot the cost vs. offset.\n",
    "plt.figure(figsize=(10, 6))\n",
    "plt.plot(offsets, bahnsen_costs, label=\"Bahnsen Cost vs. Offset\", color='b', linewidth=2)\n",
    "plt.xlabel(\"Offset\", fontsize=12)\n",
    "plt.ylabel(\"Bahnsen Cost\", fontsize=12)\n",
    "plt.title(\"Cost vs. Offset for Bahnsen Logistic Regression\", fontsize=14)\n",
    "plt.legend(fontsize=12)\n",
    "plt.grid(True)\n",
    "plt.savefig(\"bahnsen_cost_vs_offset.png\")\n",
    "plt.show()"
   ]
  }
 ],
 "metadata": {
  "kernelspec": {
   "display_name": "base",
   "language": "python",
   "name": "python3"
  },
  "language_info": {
   "codemirror_mode": {
    "name": "ipython",
    "version": 3
   },
   "file_extension": ".py",
   "mimetype": "text/x-python",
   "name": "python",
   "nbconvert_exporter": "python",
   "pygments_lexer": "ipython3",
   "version": "3.9.7"
  }
 },
 "nbformat": 4,
 "nbformat_minor": 2
}
