{
 "cells": [
  {
   "cell_type": "code",
   "execution_count": 20,
   "id": "ae66c1ac-298d-44fa-8930-446c3a576216",
   "metadata": {},
   "outputs": [],
   "source": [
    "import numpy as np\n",
    "import pandas as pd\n",
    "from pregel import Vertex, Pregel\n",
    "import matplotlib.pyplot as plt"
   ]
  },
  {
   "cell_type": "markdown",
   "id": "1b52560f-a536-4b35-b9e3-eb6f71a7a4b4",
   "metadata": {},
   "source": [
    "### Reading the data for all the transactions"
   ]
  },
  {
   "cell_type": "code",
   "execution_count": 21,
   "id": "7c4e903e-baa5-4728-a2ff-7ad88d5da500",
   "metadata": {},
   "outputs": [
    {
     "data": {
      "text/html": [
       "<div>\n",
       "<style scoped>\n",
       "    .dataframe tbody tr th:only-of-type {\n",
       "        vertical-align: middle;\n",
       "    }\n",
       "\n",
       "    .dataframe tbody tr th {\n",
       "        vertical-align: top;\n",
       "    }\n",
       "\n",
       "    .dataframe thead th {\n",
       "        text-align: right;\n",
       "    }\n",
       "</style>\n",
       "<table border=\"1\" class=\"dataframe\">\n",
       "  <thead>\n",
       "    <tr style=\"text-align: right;\">\n",
       "      <th></th>\n",
       "      <th>Sender</th>\n",
       "      <th>Receiver</th>\n",
       "      <th>Amount</th>\n",
       "    </tr>\n",
       "  </thead>\n",
       "  <tbody>\n",
       "    <tr>\n",
       "      <th>0</th>\n",
       "      <td>1309</td>\n",
       "      <td>1011</td>\n",
       "      <td>123051</td>\n",
       "    </tr>\n",
       "    <tr>\n",
       "      <th>1</th>\n",
       "      <td>1309</td>\n",
       "      <td>1011</td>\n",
       "      <td>118406</td>\n",
       "    </tr>\n",
       "    <tr>\n",
       "      <th>2</th>\n",
       "      <td>1309</td>\n",
       "      <td>1011</td>\n",
       "      <td>112456</td>\n",
       "    </tr>\n",
       "    <tr>\n",
       "      <th>3</th>\n",
       "      <td>1309</td>\n",
       "      <td>1011</td>\n",
       "      <td>120593</td>\n",
       "    </tr>\n",
       "    <tr>\n",
       "      <th>4</th>\n",
       "      <td>1309</td>\n",
       "      <td>1011</td>\n",
       "      <td>166396</td>\n",
       "    </tr>\n",
       "    <tr>\n",
       "      <th>...</th>\n",
       "      <td>...</td>\n",
       "      <td>...</td>\n",
       "      <td>...</td>\n",
       "    </tr>\n",
       "    <tr>\n",
       "      <th>130530</th>\n",
       "      <td>1344</td>\n",
       "      <td>1390</td>\n",
       "      <td>21739</td>\n",
       "    </tr>\n",
       "    <tr>\n",
       "      <th>130531</th>\n",
       "      <td>1914</td>\n",
       "      <td>1390</td>\n",
       "      <td>3374</td>\n",
       "    </tr>\n",
       "    <tr>\n",
       "      <th>130532</th>\n",
       "      <td>1914</td>\n",
       "      <td>1390</td>\n",
       "      <td>5186</td>\n",
       "    </tr>\n",
       "    <tr>\n",
       "      <th>130533</th>\n",
       "      <td>1914</td>\n",
       "      <td>1390</td>\n",
       "      <td>1559</td>\n",
       "    </tr>\n",
       "    <tr>\n",
       "      <th>130534</th>\n",
       "      <td>1914</td>\n",
       "      <td>1390</td>\n",
       "      <td>1997</td>\n",
       "    </tr>\n",
       "  </tbody>\n",
       "</table>\n",
       "<p>130535 rows × 3 columns</p>\n",
       "</div>"
      ],
      "text/plain": [
       "        Sender  Receiver  Amount\n",
       "0         1309      1011  123051\n",
       "1         1309      1011  118406\n",
       "2         1309      1011  112456\n",
       "3         1309      1011  120593\n",
       "4         1309      1011  166396\n",
       "...        ...       ...     ...\n",
       "130530    1344      1390   21739\n",
       "130531    1914      1390    3374\n",
       "130532    1914      1390    5186\n",
       "130533    1914      1390    1559\n",
       "130534    1914      1390    1997\n",
       "\n",
       "[130535 rows x 3 columns]"
      ]
     },
     "execution_count": 21,
     "metadata": {},
     "output_type": "execute_result"
    }
   ],
   "source": [
    "payments = pd.read_excel(\"Payments.xlsx\")\n",
    "payments"
   ]
  },
  {
   "cell_type": "markdown",
   "id": "c294630e-608d-4786-a3bf-6c8c27148979",
   "metadata": {},
   "source": [
    "### Reading the data for the bad traders"
   ]
  },
  {
   "cell_type": "code",
   "execution_count": 22,
   "id": "1e448618-b44d-4cf7-8a4f-3e1336f94977",
   "metadata": {},
   "outputs": [
    {
     "data": {
      "text/html": [
       "<div>\n",
       "<style scoped>\n",
       "    .dataframe tbody tr th:only-of-type {\n",
       "        vertical-align: middle;\n",
       "    }\n",
       "\n",
       "    .dataframe tbody tr th {\n",
       "        vertical-align: top;\n",
       "    }\n",
       "\n",
       "    .dataframe thead th {\n",
       "        text-align: right;\n",
       "    }\n",
       "</style>\n",
       "<table border=\"1\" class=\"dataframe\">\n",
       "  <thead>\n",
       "    <tr style=\"text-align: right;\">\n",
       "      <th></th>\n",
       "      <th>Bad Sender</th>\n",
       "    </tr>\n",
       "  </thead>\n",
       "  <tbody>\n",
       "    <tr>\n",
       "      <th>0</th>\n",
       "      <td>1303</td>\n",
       "    </tr>\n",
       "    <tr>\n",
       "      <th>1</th>\n",
       "      <td>1259</td>\n",
       "    </tr>\n",
       "    <tr>\n",
       "      <th>2</th>\n",
       "      <td>1562</td>\n",
       "    </tr>\n",
       "    <tr>\n",
       "      <th>3</th>\n",
       "      <td>1147</td>\n",
       "    </tr>\n",
       "    <tr>\n",
       "      <th>4</th>\n",
       "      <td>1393</td>\n",
       "    </tr>\n",
       "    <tr>\n",
       "      <th>5</th>\n",
       "      <td>1031</td>\n",
       "    </tr>\n",
       "    <tr>\n",
       "      <th>6</th>\n",
       "      <td>1210</td>\n",
       "    </tr>\n",
       "    <tr>\n",
       "      <th>7</th>\n",
       "      <td>1042</td>\n",
       "    </tr>\n",
       "    <tr>\n",
       "      <th>8</th>\n",
       "      <td>1048</td>\n",
       "    </tr>\n",
       "    <tr>\n",
       "      <th>9</th>\n",
       "      <td>1256</td>\n",
       "    </tr>\n",
       "    <tr>\n",
       "      <th>10</th>\n",
       "      <td>1668</td>\n",
       "    </tr>\n",
       "    <tr>\n",
       "      <th>11</th>\n",
       "      <td>1161</td>\n",
       "    </tr>\n",
       "    <tr>\n",
       "      <th>12</th>\n",
       "      <td>1007</td>\n",
       "    </tr>\n",
       "    <tr>\n",
       "      <th>13</th>\n",
       "      <td>1034</td>\n",
       "    </tr>\n",
       "    <tr>\n",
       "      <th>14</th>\n",
       "      <td>1836</td>\n",
       "    </tr>\n",
       "    <tr>\n",
       "      <th>15</th>\n",
       "      <td>1099</td>\n",
       "    </tr>\n",
       "    <tr>\n",
       "      <th>16</th>\n",
       "      <td>1489</td>\n",
       "    </tr>\n",
       "    <tr>\n",
       "      <th>17</th>\n",
       "      <td>1821</td>\n",
       "    </tr>\n",
       "    <tr>\n",
       "      <th>18</th>\n",
       "      <td>1076</td>\n",
       "    </tr>\n",
       "    <tr>\n",
       "      <th>19</th>\n",
       "      <td>1944</td>\n",
       "    </tr>\n",
       "  </tbody>\n",
       "</table>\n",
       "</div>"
      ],
      "text/plain": [
       "    Bad Sender\n",
       "0         1303\n",
       "1         1259\n",
       "2         1562\n",
       "3         1147\n",
       "4         1393\n",
       "5         1031\n",
       "6         1210\n",
       "7         1042\n",
       "8         1048\n",
       "9         1256\n",
       "10        1668\n",
       "11        1161\n",
       "12        1007\n",
       "13        1034\n",
       "14        1836\n",
       "15        1099\n",
       "16        1489\n",
       "17        1821\n",
       "18        1076\n",
       "19        1944"
      ]
     },
     "execution_count": 22,
     "metadata": {},
     "output_type": "execute_result"
    }
   ],
   "source": [
    "bad = pd.read_excel(\"bad_sender.xlsx\")\n",
    "bad"
   ]
  },
  {
   "cell_type": "markdown",
   "id": "d9ce67dd-db72-457c-9ebf-ea74f2dd9127",
   "metadata": {},
   "source": [
    "### Getting the data for all the traders involved in any kind of transaction"
   ]
  },
  {
   "cell_type": "code",
   "execution_count": 23,
   "id": "00d24c2d-cbd0-4049-aba2-0d7b689401e3",
   "metadata": {},
   "outputs": [
    {
     "data": {
      "text/plain": [
       "799"
      ]
     },
     "execution_count": 23,
     "metadata": {},
     "output_type": "execute_result"
    }
   ],
   "source": [
    "payments = payments.values.tolist()\n",
    "bad = bad.values.tolist()\n",
    "senders = []\n",
    "receivers = []\n",
    "for i in payments:\n",
    "    senders.append(i[0])\n",
    "    receivers.append(i[1])\n",
    "all_traders = list(set(senders + receivers))\n",
    "all_traders.sort()\n",
    "# all_traders\n",
    "len(all_traders)"
   ]
  },
  {
   "cell_type": "markdown",
   "id": "cba5ec43-1cf1-4794-89dd-1de76369208d",
   "metadata": {},
   "source": [
    "### Making the graph for the transactions"
   ]
  },
  {
   "cell_type": "code",
   "execution_count": 24,
   "id": "02f286e9-5ba9-4350-b8c9-99c2fb56ffb7",
   "metadata": {},
   "outputs": [],
   "source": [
    "# stores the corresponding total amount for a sender-receiver pair i.e (sender, receiver) -> total amount\n",
    "transactions = {}\n",
    "\n",
    "# stores all the receivers for a sender i.e sender -> list of receivers\n",
    "edges = {}\n",
    "for sender, receiver, amount in payments:\n",
    "    if sender not in edges:\n",
    "        edges[sender] = []\n",
    "    edges[sender].append(receiver)\n",
    "    key = (sender, receiver)\n",
    "    if key not in transactions:\n",
    "        transactions[key] = 0\n",
    "    transactions[key] += amount\n",
    "\n",
    "for key in edges.keys():\n",
    "    edges[key] = list(set(edges[key]))\n",
    "\n",
    "# adding an edge between vertices with no edge and bad nodes with equal weights\n",
    "for trader in all_traders:\n",
    "    if trader not in senders:\n",
    "        edges[trader] = []\n",
    "        for bad_trader in bad:\n",
    "            edges[trader].append(bad_trader[0])\n",
    "        for bad_trader in bad:\n",
    "            key = (trader, bad_trader[0])\n",
    "            transactions[key] = 1  "
   ]
  },
  {
   "cell_type": "markdown",
   "id": "7d3e90c8-a9f5-4ee5-a039-ef45a02c9ebd",
   "metadata": {},
   "source": [
    "### Class for computing TrustRank"
   ]
  },
  {
   "cell_type": "code",
   "execution_count": 25,
   "id": "91990506-a82e-48f7-ad2d-8e3bada90908",
   "metadata": {},
   "outputs": [],
   "source": [
    "class TrustRankVertex(Vertex):\n",
    "\n",
    "    # constructor for the class\n",
    "    def __init__(self , id , value , out_vertices , outgoing_weights, initial_value ,dampingFactor=0.85,iterations=50):\n",
    "\n",
    "        # calling the constructor of the parent class\n",
    "        Vertex.__init__(self,id,value,out_vertices)\n",
    "        self.dampingFactor = dampingFactor\n",
    "        self.num_supersteps = iterations\n",
    "        self.initial_value = initial_value\n",
    "        self.outgoing_weights = outgoing_weights\n",
    "        self.out_vertices = out_vertices\n",
    "\n",
    "    def update(self):\n",
    "        # This routine has a bug when there are pages with no outgoing\n",
    "        # links (never the case for our tests).  This problem can be\n",
    "        # solved by introducing Aggregators into the Pregel framework,\n",
    "        # but as an initial demonstration this works fine.\n",
    "\n",
    "        if self.superstep < self.num_supersteps:\n",
    "            messages_sum = 0\n",
    "            \n",
    "            for (vertex,message) in self.incoming_messages:\n",
    "                messages_sum +=message\n",
    "\n",
    "            # we use a biased PageRank algorithm that gives the static score of 0\n",
    "            # if it is a good node and a static score of 1/num_bad_nodes if it is a bad node\n",
    "            # note that here we compute the Bad Score             \n",
    "            self.value = (1-self.dampingFactor)*self.initial_value\n",
    "            self.value += self.dampingFactor * messages_sum\n",
    "\n",
    "            #calculating the outgoing messages for a vertex which stores weight\n",
    "            self.outgoing_messages = []\n",
    "            for vertex in self.out_vertices:\n",
    "                weight = self.value * (self.outgoing_weights[vertex.id])\n",
    "                self.outgoing_messages.append((vertex, weight))\n",
    "        \n",
    "        else:\n",
    "            self.active = False"
   ]
  },
  {
   "cell_type": "markdown",
   "id": "e1a4411d-428b-4d85-94fe-76d0f9004923",
   "metadata": {},
   "source": [
    "### Initialzing the vertices for the TrustRankVertex class"
   ]
  },
  {
   "cell_type": "code",
   "execution_count": 26,
   "id": "22f5bbc8-da4e-42d4-97d1-207c02ba35f9",
   "metadata": {},
   "outputs": [],
   "source": [
    "vertices = []\n",
    "trust_rank = {}\n",
    "\n",
    "# each node starts with a score of 1/N if its a bad node else 0\n",
    "for trader in all_traders:\n",
    "    trust_rank[trader] = 0;\n",
    "    if [trader] in bad:\n",
    "        trust_rank[trader] = 1/len(bad)\n",
    "        \n",
    "# initializing the class objects\n",
    "for trader in all_traders:\n",
    "    initial_value = 0\n",
    "    if [trader] in bad:\n",
    "        initial_value = 1/len(bad)\n",
    "    vertices.append(TrustRankVertex(trader , trust_rank[trader] , [] , {} , initial_value, 0.85 , 50))\n",
    "\n",
    "# calculating the outgoing weights for all the vertices to their receivers.\n",
    "for v1 in vertices:\n",
    "    total_weight = 0;\n",
    "    for v2 in edges[v1.id]:\n",
    "        total_weight += transactions[(v1.id, v2)]\n",
    "    for v2 in vertices:\n",
    "        if v2.id in edges[v1.id]:\n",
    "            v1.out_vertices.append(v2)\n",
    "            v1.outgoing_weights[v2.id] = transactions[(v1.id, v2.id)]/total_weight\n",
    "            \n",
    "\n"
   ]
  },
  {
   "cell_type": "markdown",
   "id": "29daac2f-ba60-4d87-950c-34734a0ed554",
   "metadata": {},
   "source": [
    "### Running the Algorithm"
   ]
  },
  {
   "cell_type": "code",
   "execution_count": 27,
   "id": "0dd3d9c4-da22-4908-8e4a-e438c1cb3d9e",
   "metadata": {},
   "outputs": [],
   "source": [
    "\n",
    "p = Pregel(vertices,4)\n",
    "p.run()\n",
    "bad_scores = {}\n",
    "scores = []\n",
    "for v in p.vertices:\n",
    "    bad_scores[v.id] = v.value\n",
    "    scores.append(v.value)\n",
    "result = []\n",
    "for trader in all_traders:\n",
    "    result.append([trader , bad_scores[trader]])\n",
    "\n",
    "result = sorted(result, key = lambda x: x[1], reverse = True)\n",
    "final_df = pd.DataFrame(result , columns=['Trader ID' , 'Bad Score'])\n",
    "\n",
    "final_df.to_csv('Results_bad_score.csv' , index=False)"
   ]
  },
  {
   "cell_type": "markdown",
   "id": "f55b0ed7-4533-42db-951f-79e23f2e0028",
   "metadata": {},
   "source": [
    "### Top 20 bad traders"
   ]
  },
  {
   "cell_type": "code",
   "execution_count": 28,
   "id": "e604b41a-86db-4e9b-8876-e7bc7eefa78b",
   "metadata": {},
   "outputs": [
    {
     "name": "stdout",
     "output_type": "stream",
     "text": [
      "The top 20 bad traders with their bad scores are: \n",
      "    Trader ID  Bad Score\n",
      "0        1007   0.039906\n",
      "1        1088   0.034833\n",
      "2        1144   0.034240\n",
      "3        1210   0.030062\n",
      "4        1042   0.023492\n",
      "5        1086   0.023086\n",
      "6        1034   0.017966\n",
      "7        1076   0.016779\n",
      "8        1048   0.015109\n",
      "9        1099   0.014820\n",
      "10       1147   0.014205\n",
      "11       1205   0.013872\n",
      "12       1626   0.013170\n",
      "13       1201   0.012634\n",
      "14       1094   0.012458\n",
      "15       1011   0.012446\n",
      "16       1173   0.012441\n",
      "17       1480   0.012313\n",
      "18       1013   0.011981\n",
      "19       1084   0.011171\n"
     ]
    }
   ],
   "source": [
    "print(\"The top 20 bad traders with their bad scores are: \")\n",
    "print(final_df.head(20))"
   ]
  },
  {
   "cell_type": "markdown",
   "id": "8e379f6f-6d8f-4935-b71b-d950b9d0fa1f",
   "metadata": {},
   "source": [
    "### Plots"
   ]
  },
  {
   "cell_type": "code",
   "execution_count": 29,
   "id": "1c4b9cef-3681-49bf-ac30-860dde2d4856",
   "metadata": {},
   "outputs": [
    {
     "data": {
      "image/png": "[encoded data removed]",
      "text/plain": [
       "<Figure size 640x480 with 1 Axes>"
      ]
     },
     "metadata": {},
     "output_type": "display_data"
    }
   ],
   "source": [
    "# plotting the histogram for bad score distribution\n",
    "plt.hist(scores , bins = 'auto' , color = 'r')\n",
    "plt.yscale('log')\n",
    "plt.title(\"Bad Score Distribution of Traders\")\n",
    "plt.xlabel(\"Bad Score\")\n",
    "plt.ylabel(\"Frequency of Traders\")\n",
    "plt.savefig(\"hist.png\")\n",
    "plt.show()"
   ]
  },
  {
   "cell_type": "code",
   "execution_count": 30,
   "id": "4bb566e4-9e1d-4cd7-94d9-26b2352c0eb9",
   "metadata": {},
   "outputs": [
    {
     "data": {
      "image/png": "[encoded data removed]",
      "text/plain": [
       "<Figure size 640x480 with 1 Axes>"
      ]
     },
     "metadata": {},
     "output_type": "display_data"
    }
   ],
   "source": [
    "# Separate bad and good traders\n",
    "bad_x = [i for i in range(len(result)) if [result[i][0]] in bad]\n",
    "bad_y = [result[i][1] for i in range(len(result)) if [result[i][0]] in bad]\n",
    "\n",
    "good_x = [i for i in range(len(result)) if [result[i][0]] not in bad]\n",
    "good_y = [result[i][1] for i in range(len(result)) if [result[i][0]] not in bad]\n",
    "\n",
    "# Plot good traders (circles)\n",
    "plt.scatter(good_x, good_y, label=\"Good Traders\", color=\"blue\", marker=\"o\", s=25, alpha=0.7)\n",
    "\n",
    "# Plot bad traders (stars)\n",
    "plt.scatter(bad_x, bad_y, label=\"Bad Traders\", color=\"red\", marker=\"*\", s=25, alpha=0.9)\n",
    "\n",
    "plt.xlabel(\"Trader ID (Remapped to 1-800)\")\n",
    "plt.ylabel(\"TrustRank Score\")\n",
    "plt.title(\"Trader ID vs. TrustRank Score\")\n",
    "plt.legend()\n",
    "plt.savefig(\"scatter.png\")\n",
    "\n",
    "plt.show()"
   ]
  },
  {
   "cell_type": "code",
   "execution_count": null,
   "id": "778f1753-c183-4586-9b63-69e2a42004d4",
   "metadata": {},
   "outputs": [],
   "source": []
  }
 ],
 "metadata": {
  "kernelspec": {
   "display_name": "Python 3 (ipykernel)",
   "language": "python",
   "name": "python3"
  },
  "language_info": {
   "codemirror_mode": {
    "name": "ipython",
    "version": 3
   },
   "file_extension": ".py",
   "mimetype": "text/x-python",
   "name": "python",
   "nbconvert_exporter": "python",
   "pygments_lexer": "ipython3",
   "version": "3.11.1"
  }
 },
 "nbformat": 4,
 "nbformat_minor": 5
}
